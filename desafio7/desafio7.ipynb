{
 "cells": [
  {
   "cell_type": "code",
   "execution_count": 1,
   "metadata": {},
   "outputs": [],
   "source": [
    "from scipy import stats as ss\n",
    "\n",
    "import seaborn as sns\n",
    "import numpy as np\n",
    "import matplotlib.pyplot as plt\n",
    "import pandas as pd\n"
   ]
  },
  {
   "cell_type": "code",
   "execution_count": 2,
   "metadata": {},
   "outputs": [],
   "source": [
    "def derivadas_regressao(theta, X, y):\n",
    "    return -2 * ((y - X @ theta) * X.T).mean(axis=1)"
   ]
  },
  {
   "cell_type": "code",
   "execution_count": 3,
   "metadata": {},
   "outputs": [],
   "source": [
    "def gd(theta, d_fun, X, y, lambda_=0.005, tol=0.000001, max_iter=1000000):\n",
    "    theta = theta.copy()\n",
    "    #print('Iter {}; theta = '.format(0), theta)\n",
    "    old_err_sq = np.inf\n",
    "    i = 0\n",
    "    while True:\n",
    "        # Computar as derivadas\n",
    "        grad = d_fun(theta, X, y)\n",
    "        # Atualizar\n",
    "        theta_novo = theta - lambda_ * grad\n",
    "        \n",
    "        # Parar quando o erro convergir\n",
    "        err_sq = ((X.dot(theta) - y) ** 2).mean()\n",
    "        if np.abs(old_err_sq - err_sq) <= tol:\n",
    "            break\n",
    "        theta = theta_novo\n",
    "        old_err_sq = err_sq\n",
    "        #print('Iter {}; theta = '.format(i+1), theta)\n",
    "        i += 1\n",
    "        if i == max_iter:\n",
    "            break\n",
    "    return theta"
   ]
  },
  {
   "cell_type": "code",
   "execution_count": 4,
   "metadata": {},
   "outputs": [],
   "source": [
    "df = pd.read_csv('./train.csv', index_col=0)\n",
    "\n",
    "X = df[['NU_NOTA_CN', 'NU_NOTA_CH', 'NU_NOTA_LC', 'NU_NOTA_MT', 'NU_NOTA_COMP1', 'NU_NOTA_COMP2', 'NU_NOTA_COMP3', 'NU_NOTA_COMP4', 'NU_NOTA_COMP5', 'NU_NOTA_REDACAO']].dropna(how='all').fillna(df.mean())\n"
   ]
  },
  {
   "cell_type": "code",
   "execution_count": 5,
   "metadata": {},
   "outputs": [
    {
     "data": {
      "text/plain": [
       "array([ 0.00078349,  0.36836257,  0.15866564,  0.16872674,  0.01866017,\n",
       "        0.01979052,  0.01679227,  0.04017013,  0.05854897, -0.09403852])"
      ]
     },
     "execution_count": 5,
     "metadata": {},
     "output_type": "execute_result"
    }
   ],
   "source": [
    "X = X - X.mean()\n",
    "X = X / X.std(ddof=1)\n",
    "\n",
    "y = X['NU_NOTA_MT']\n",
    "X = X[['NU_NOTA_CN', 'NU_NOTA_CH', 'NU_NOTA_LC', 'NU_NOTA_COMP1', 'NU_NOTA_COMP2', 'NU_NOTA_COMP3', 'NU_NOTA_COMP4', 'NU_NOTA_COMP5', 'NU_NOTA_REDACAO']]\n",
    "\n",
    "X['intercepto'] = 1\n",
    "\n",
    "X = X[['intercepto', 'NU_NOTA_CN', 'NU_NOTA_CH', 'NU_NOTA_LC', 'NU_NOTA_COMP1', 'NU_NOTA_COMP2', 'NU_NOTA_COMP3', 'NU_NOTA_COMP4', 'NU_NOTA_COMP5', 'NU_NOTA_REDACAO']]\n",
    "\n",
    "X = X.values\n",
    "y = y.values\n",
    "\n",
    "theta = np.ones(10)\n",
    "theta = gd(theta, derivadas_regressao, X, y)\n",
    "theta\n",
    "\n"
   ]
  },
  {
   "cell_type": "code",
   "execution_count": 6,
   "metadata": {},
   "outputs": [],
   "source": [
    "def sst(y):\n",
    "    # YOUR CODE HERE\n",
    "    return ((y - y.mean()) ** 2).sum()\n",
    "\n",
    "def predict(X, theta):\n",
    "    # YOUR CODE HERE\n",
    "    \n",
    "    Y = X @ theta\n",
    "    \n",
    "    return Y\n",
    "\n",
    "def sse(X, y, theta):\n",
    "    # YOUR CODE HERE\n",
    "        \n",
    "    return ((y - predict(X, theta))**2).sum()\n",
    "\n",
    "def r2(X, y, theta):\n",
    "    # YOUR CODE HERE\n",
    "    \n",
    "    return 1.0 - (sse(X, y, theta) / sst(y))"
   ]
  },
  {
   "cell_type": "code",
   "execution_count": 7,
   "metadata": {},
   "outputs": [
    {
     "data": {
      "text/plain": [
       "LinearRegression(copy_X=True, fit_intercept=False, n_jobs=None, normalize=False)"
      ]
     },
     "execution_count": 7,
     "metadata": {},
     "output_type": "execute_result"
    }
   ],
   "source": [
    "from sklearn.linear_model import LinearRegression\n",
    "model = LinearRegression(fit_intercept=False)\n",
    "model.fit(X, y)"
   ]
  },
  {
   "cell_type": "code",
   "execution_count": null,
   "metadata": {},
   "outputs": [],
   "source": []
  },
  {
   "cell_type": "code",
   "execution_count": 8,
   "metadata": {},
   "outputs": [
    {
     "data": {
      "text/plain": [
       "0    1\n",
       "1    1\n",
       "2    1\n",
       "3    0\n",
       "4    1\n",
       "Name: TP_PRESENCA_LC, dtype: int64"
      ]
     },
     "execution_count": 8,
     "metadata": {},
     "output_type": "execute_result"
    }
   ],
   "source": [
    "df = pd.read_csv('./test.csv')\n",
    "X = df[['NU_NOTA_CN', 'NU_NOTA_CH', 'NU_NOTA_LC', 'NU_NOTA_COMP1', 'NU_NOTA_COMP2', 'NU_NOTA_COMP3', 'NU_NOTA_COMP4', 'NU_NOTA_COMP5', 'NU_NOTA_REDACAO']].fillna(df.mean())\n",
    "y = df['NU_INSCRICAO']\n",
    "\n",
    "treta = df['TP_PRESENCA_LC']\n",
    "\n",
    "X['intercepto'] = 1\n",
    "X = X[['intercepto', 'NU_NOTA_CN', 'NU_NOTA_CH', 'NU_NOTA_LC', 'NU_NOTA_COMP1', 'NU_NOTA_COMP2', 'NU_NOTA_COMP3', 'NU_NOTA_COMP4', 'NU_NOTA_COMP5', 'NU_NOTA_REDACAO']]\n",
    "\n",
    "treta.head()\n",
    "#TP_PRESENCA_LC"
   ]
  },
  {
   "cell_type": "code",
   "execution_count": 11,
   "metadata": {},
   "outputs": [
    {
     "data": {
      "text/html": [
       "<div>\n",
       "<style scoped>\n",
       "    .dataframe tbody tr th:only-of-type {\n",
       "        vertical-align: middle;\n",
       "    }\n",
       "\n",
       "    .dataframe tbody tr th {\n",
       "        vertical-align: top;\n",
       "    }\n",
       "\n",
       "    .dataframe thead th {\n",
       "        text-align: right;\n",
       "    }\n",
       "</style>\n",
       "<table border=\"1\" class=\"dataframe\">\n",
       "  <thead>\n",
       "    <tr style=\"text-align: right;\">\n",
       "      <th></th>\n",
       "      <th>NU_INSCRICAO</th>\n",
       "      <th>NU_NOTA_MT</th>\n",
       "    </tr>\n",
       "  </thead>\n",
       "  <tbody>\n",
       "    <tr>\n",
       "      <th>0</th>\n",
       "      <td>73ff9fcc02f0a99919906c942c2e1a1042cdcf98</td>\n",
       "      <td>286.468763</td>\n",
       "    </tr>\n",
       "    <tr>\n",
       "      <th>1</th>\n",
       "      <td>71a95f9f1b91a82c65ad94abbdf9f54e6066f968</td>\n",
       "      <td>277.212463</td>\n",
       "    </tr>\n",
       "    <tr>\n",
       "      <th>2</th>\n",
       "      <td>b38a03232f43b11c9d0788abaf060f7366053b6d</td>\n",
       "      <td>402.601191</td>\n",
       "    </tr>\n",
       "    <tr>\n",
       "      <th>3</th>\n",
       "      <td>70b682d9a3636be23f6120fa9d6b164eb3c6002d</td>\n",
       "      <td>0.000000</td>\n",
       "    </tr>\n",
       "    <tr>\n",
       "      <th>4</th>\n",
       "      <td>715494628a50142ce8cb17191cfe6d0f3cae0934</td>\n",
       "      <td>370.550186</td>\n",
       "    </tr>\n",
       "  </tbody>\n",
       "</table>\n",
       "</div>"
      ],
      "text/plain": [
       "                               NU_INSCRICAO  NU_NOTA_MT\n",
       "0  73ff9fcc02f0a99919906c942c2e1a1042cdcf98  286.468763\n",
       "1  71a95f9f1b91a82c65ad94abbdf9f54e6066f968  277.212463\n",
       "2  b38a03232f43b11c9d0788abaf060f7366053b6d  402.601191\n",
       "3  70b682d9a3636be23f6120fa9d6b164eb3c6002d    0.000000\n",
       "4  715494628a50142ce8cb17191cfe6d0f3cae0934  370.550186"
      ]
     },
     "execution_count": 11,
     "metadata": {},
     "output_type": "execute_result"
    }
   ],
   "source": [
    "\n",
    "data = {'TP_PRESENCA_LC': treta,\n",
    "        'NU_INSCRICAO':  y,\n",
    "        'NU_NOTA_MT': X@theta}\n",
    "\n",
    "answer = pd.DataFrame (data)\n",
    "\n",
    "answer.loc[answer['TP_PRESENCA_LC'] == 0, 'NU_NOTA_MT'] = 0.0\n",
    "\n",
    "answer.loc[answer['TP_PRESENCA_LC'] == 2, 'NU_NOTA_MT'] = 0.0\n",
    "\n",
    "answer = answer[['NU_INSCRICAO', 'NU_NOTA_MT']]\n",
    "\n",
    "answer.to_csv('answer.csv', index=False)\n",
    "\n",
    "\n",
    "answer.head()"
   ]
  },
  {
   "cell_type": "code",
   "execution_count": null,
   "metadata": {},
   "outputs": [],
   "source": []
  }
 ],
 "metadata": {
  "kernelspec": {
   "display_name": "Python 3",
   "language": "python",
   "name": "python3"
  },
  "language_info": {
   "codemirror_mode": {
    "name": "ipython",
    "version": 3
   },
   "file_extension": ".py",
   "mimetype": "text/x-python",
   "name": "python",
   "nbconvert_exporter": "python",
   "pygments_lexer": "ipython3",
   "version": "3.6.9"
  }
 },
 "nbformat": 4,
 "nbformat_minor": 4
}
